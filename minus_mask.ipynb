{
 "cells": [
  {
   "cell_type": "code",
   "execution_count": 1,
   "metadata": {},
   "outputs": [],
   "source": [
    "from PIL import Image\n",
    "import matplotlib.pyplot as plt\n",
    "import PIL\n",
    "import cv2\n",
    "import numpy as np"
   ]
  },
  {
   "cell_type": "code",
   "execution_count": 4,
   "metadata": {},
   "outputs": [],
   "source": [
    "image1 = cv2.imread('minus222.png')\n",
    "mask1 = cv2.imread('mask222.png')\n",
    "# 初始化与image1大小相同的全0数组\n",
    "masked_image1 = np.zeros_like(image1)\n",
    "# mask1==0的位置保留image1值\n",
    "masked_image1[mask1 != 0] = image1[mask1 != 0]"
   ]
  },
  {
   "cell_type": "code",
   "execution_count": 5,
   "metadata": {},
   "outputs": [],
   "source": [
    "pillow_image_mask = Image.fromarray(cv2.cvtColor(masked_image1, cv2.COLOR_BGR2RGB))\n",
    "pillow_image_mask.show()\n",
    "pillow_image_mask.save(\"minus222in_mask.png\")"
   ]
  },
  {
   "cell_type": "code",
   "execution_count": 6,
   "metadata": {},
   "outputs": [
    {
     "name": "stdout",
     "output_type": "stream",
     "text": [
      "像素为0的点的占比 ： 98.18%\n"
     ]
    }
   ],
   "source": [
    "# 将图像转换为灰度图像\n",
    "if len(masked_image1.shape) == 3:\n",
    "    masked_image1 = cv2.cvtColor(masked_image1, cv2.COLOR_BGR2GRAY)\n",
    "# 计算像素值为零的点\n",
    "zero_pixel_count = masked_image1.size - cv2.countNonZero(masked_image1)\n",
    "# print(\"像素值为0的点的数量：\", zero_pixel_count)\n",
    "print(\"像素为0的点的占比 ：\",f'{(zero_pixel_count/masked_image1.size) :.2%}')"
   ]
  }
 ],
 "metadata": {
  "kernelspec": {
   "display_name": "test",
   "language": "python",
   "name": "python3"
  },
  "language_info": {
   "codemirror_mode": {
    "name": "ipython",
    "version": 3
   },
   "file_extension": ".py",
   "mimetype": "text/x-python",
   "name": "python",
   "nbconvert_exporter": "python",
   "pygments_lexer": "ipython3",
   "version": "3.10.12"
  },
  "orig_nbformat": 4
 },
 "nbformat": 4,
 "nbformat_minor": 2
}
